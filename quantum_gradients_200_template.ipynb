{
 "cells": [
  {
   "cell_type": "code",
   "execution_count": 3,
   "metadata": {},
   "outputs": [],
   "source": [
    "import pennylane as qml\n",
    "import numpy as np\n",
    "\n",
    "def gradient_200(weights, dev):\n",
    "    r\"\"\"This function must compute the gradient *and* the Hessian of the variational\n",
    "    circuit using the parameter-shift rule, using exactly 51 device executions.\n",
    "    The code you write for this challenge should be completely contained within\n",
    "    this function between the # QHACK # comment markers.\n",
    "    Args:\n",
    "        weights (array): An array of floating-point numbers with size (5,).\n",
    "        dev (Device): a PennyLane device for quantum circuit execution.\n",
    "    Returns:\n",
    "        tuple[array, array]: This function returns a tuple (gradient, hessian).\n",
    "            * gradient is a real NumPy array of size (5,).\n",
    "            * hessian is a real NumPy array of size (5, 5).\n",
    "    \"\"\"\n",
    "\n",
    "    @qml.qnode(dev, interface=None)\n",
    "    def circuit(w):\n",
    "        for i in range(3):\n",
    "            qml.RX(w[i], wires=i)\n",
    "\n",
    "        qml.CNOT(wires=[0, 1])\n",
    "        qml.CNOT(wires=[1, 2])\n",
    "        qml.CNOT(wires=[2, 0])\n",
    "\n",
    "        qml.RY(w[3], wires=1)\n",
    "\n",
    "        qml.CNOT(wires=[0, 1])\n",
    "        qml.CNOT(wires=[1, 2])\n",
    "        qml.CNOT(wires=[2, 0])\n",
    "\n",
    "        qml.RX(w[4], wires=2)\n",
    "\n",
    "        return qml.expval(qml.PauliZ(0) @ qml.PauliZ(2))\n",
    "\n",
    "    gradient = np.zeros([5], dtype=np.float64)\n",
    "    grad=np.zeros([5], dtype=np.float64)\n",
    "    hessian = np.zeros([5, 5], dtype=np.float64)\n",
    "\n",
    "    # QHACK #\n",
    "    def parameter_shift_term(qnode, weights, i):\n",
    "        shifted = weights.copy()\n",
    "        shifted[i] += np.pi/4\n",
    "        forward = qnode(shifted)  # forward evaluation\n",
    "\n",
    "        shifted[i] -= np.pi/2\n",
    "        backward = qnode(shifted) # backward evaluation\n",
    "        return 0.5 * ((forward - backward)/(np.sin(np.pi/4)))\n",
    "    \n",
    "    def parameter_shift(qnode, params):\n",
    "\n",
    "        for i in range(len(params)):\n",
    "            gradient[i] = parameter_shift_term(qnode, weights, i)\n",
    "            grad[i]=parameter_shift_term(qnode,gradient,i)\n",
    "        for i in range(len(gradient)):\n",
    "            for j in range(len(gradient)):\n",
    "                if(i==j):\n",
    "                    hessian[i][j]=grad[i]\n",
    "                else:\n",
    "                    hessian[i][j]=parameter_shift_term(qnode,gradient,i)\n",
    "        \n",
    "        return gradient,hessian\n",
    "    \n",
    "    gradient,hessian=parameter_shift(circuit,weights)\n",
    "    \n",
    "        # iterate over dimensions\n",
    "        # apply gradient again to every component of the first derivative.\n",
    "        \n",
    "\n",
    "                \n",
    "    # QHACK #\n",
    "\n",
    "    return gradient, hessian, circuit.diff_options[\"method\"]\n",
    "\n"
   ]
  },
  {
   "cell_type": "code",
   "execution_count": 4,
   "metadata": {},
   "outputs": [
    {
     "name": "stdout",
     "output_type": "stream",
     "text": [
      "0.0012756024,-0.7668909241,-0.1890228368,-0.0374176229,-0.7914937431\n"
     ]
    }
   ],
   "source": [
    "weights = np.array([0.1,0.2,0.1,0.2,0.7], float)\n",
    "\n",
    "dev = qml.device(\"default.qubit\", wires=3)\n",
    "gradient, hessian, diff_method = gradient_200(weights, dev)\n",
    "\n",
    "print(\n",
    "    *np.round(gradient, 10),\n",
    "        sep=\",\"\n",
    "    )\n"
   ]
  },
  {
   "cell_type": "code",
   "execution_count": 5,
   "metadata": {},
   "outputs": [
    {
     "name": "stdout",
     "output_type": "stream",
     "text": [
      "[-0.0000e+00 -6.3787e-06 -6.3787e-06 -6.3787e-06 -6.3787e-06],[0.98176049 0.69389984 0.98176049 0.98176049 0.98176049],[-0.02374178 -0.02374178  0.13530088 -0.02374178 -0.02374178],[-0.15171627 -0.15171627 -0.15171627  0.         -0.15171627],[0.97683747 0.97683747 0.97683747 0.97683747 0.97683747]\n"
     ]
    }
   ],
   "source": [
    "print(*np.round(hessian,10),sep=\",\")\n"
   ]
  },
  {
   "cell_type": "code",
   "execution_count": 71,
   "metadata": {},
   "outputs": [
    {
     "name": "stdout",
     "output_type": "stream",
     "text": [
      "a a\n",
      "a b\n",
      "a c\n",
      "a d\n",
      "a e\n",
      "b a\n",
      "b b\n",
      "b c\n",
      "b d\n",
      "b e\n",
      "c a\n",
      "c b\n",
      "c c\n",
      "c d\n",
      "c e\n",
      "d a\n",
      "d b\n",
      "d c\n",
      "d d\n",
      "d e\n",
      "e a\n",
      "e b\n",
      "e c\n",
      "e d\n",
      "e e\n"
     ]
    }
   ],
   "source": []
  },
  {
   "cell_type": "code",
   "execution_count": null,
   "metadata": {},
   "outputs": [],
   "source": []
  }
 ],
 "metadata": {
  "kernelspec": {
   "display_name": "Python 3",
   "language": "python",
   "name": "python3"
  },
  "language_info": {
   "codemirror_mode": {
    "name": "ipython",
    "version": 3
   },
   "file_extension": ".py",
   "mimetype": "text/x-python",
   "name": "python",
   "nbconvert_exporter": "python",
   "pygments_lexer": "ipython3",
   "version": "3.7.9"
  }
 },
 "nbformat": 4,
 "nbformat_minor": 4
}
